{
 "cells": [
  {
   "cell_type": "code",
   "execution_count": 14,
   "id": "e045470e-a347-4ee5-99cf-58918b541e21",
   "metadata": {},
   "outputs": [],
   "source": [
    "# 09_fusion_layer.ipynb\n",
    "\n",
    "import pandas as pd\n",
    "import os\n",
    "import numpy as np\n",
    "import matplotlib.pyplot as plt\n",
    "from sklearn.metrics import accuracy_score\n",
    "\n"
   ]
  },
  {
   "cell_type": "code",
   "execution_count": 15,
   "id": "1bd4991c-7bf0-417e-b57a-4d5d16bba329",
   "metadata": {},
   "outputs": [],
   "source": [
    "# CORRECTED paths\n",
    "xgb_path = \"/Users/tvishakhanna/MBFT_LITE_FL/results/xgboost\"\n",
    "tinybert_path = \"/Users/tvishakhanna/MBFT_LITE_FL/fl_tinybert/fl_tinybert/results\"\n",
    " \n",
    "\n",
    "clients = [\"client_1\", \"client_2\", \"client_3\", \"client_4\"]\n",
    "\n",
    "fusion_results_dir = \"../results/fusion\"\n",
    "os.makedirs(fusion_results_dir, exist_ok=True)\n",
    "\n",
    "fusion_summary = {}\n"
   ]
  },
  {
   "cell_type": "code",
   "execution_count": 16,
   "id": "16bf1566-202a-46ab-bdfd-958a9a14d542",
   "metadata": {},
   "outputs": [
    {
     "name": "stdout",
     "output_type": "stream",
     "text": [
      "\n",
      "🎯 Sweeping alpha values for client_1...\n",
      "✅ Saved accuracy plot to: ../results/fusion/client_1_fusion_plot.png\n",
      "\n",
      "🎯 Sweeping alpha values for client_2...\n",
      "✅ Saved accuracy plot to: ../results/fusion/client_2_fusion_plot.png\n",
      "\n",
      "🎯 Sweeping alpha values for client_3...\n",
      "✅ Saved accuracy plot to: ../results/fusion/client_3_fusion_plot.png\n",
      "\n",
      "🎯 Sweeping alpha values for client_4...\n",
      "✅ Saved accuracy plot to: ../results/fusion/client_4_fusion_plot.png\n"
     ]
    }
   ],
   "source": [
    "for client in clients:\n",
    "    print(f\"\\n🎯 Sweeping alpha values for {client}...\")\n",
    "\n",
    "    # FIXED: use accurate full path\n",
    "    tinybert_file = os.path.join(tinybert_path, client, \"predictions.csv\")\n",
    "    xgb_file = os.path.join(xgb_path, f\"{client}_xgb_predictions.csv\")\n",
    "\n",
    "    df_tinybert = pd.read_csv(tinybert_file)\n",
    "    df_xgb = pd.read_csv(xgb_file)\n",
    "\n",
    "    # Extract from consistent column names\n",
    "    y_true = df_tinybert[\"Actual\"].values\n",
    "    tinybert_probs = df_tinybert[\"Probability\"].values\n",
    "    xgb_probs = df_xgb[\"Probability\"].values\n",
    "\n",
    "    best_acc = 0\n",
    "    best_alpha = None\n",
    "    alpha_range = np.arange(0.0, 1.01, 0.05)\n",
    "    alpha_accs = []\n",
    "\n",
    "    for alpha in alpha_range:\n",
    "        fused = alpha * tinybert_probs + (1 - alpha) * xgb_probs\n",
    "        fused_pred = (fused >= 0.5).astype(int)\n",
    "        acc = accuracy_score(y_true, fused_pred)\n",
    "        alpha_accs.append(acc)\n",
    "\n",
    "        if acc > best_acc:\n",
    "            best_acc = acc\n",
    "            best_alpha = alpha\n",
    "\n",
    "    # Store result\n",
    "    fusion_summary[client] = {\"best_alpha\": best_alpha, \"accuracy\": best_acc}\n",
    "\n",
    "    # Plot accuracy vs alpha\n",
    "    plt.figure(figsize=(8, 4))\n",
    "    plt.plot(alpha_range, alpha_accs, marker='o')\n",
    "    plt.title(f\"Fusion Accuracy vs Alpha - {client}\")\n",
    "    plt.xlabel(\"Alpha (TinyBERT weight)\")\n",
    "    plt.ylabel(\"Accuracy\")\n",
    "    plt.grid(True)\n",
    "    plt.tight_layout()\n",
    "    plot_path = os.path.join(fusion_results_dir, f\"{client}_fusion_plot.png\")\n",
    "    plt.savefig(plot_path)\n",
    "    plt.close()\n",
    "    print(f\"✅ Saved accuracy plot to: {plot_path}\")\n",
    "\n"
   ]
  },
  {
   "cell_type": "code",
   "execution_count": 18,
   "id": "083a120d-ad73-49ac-9427-91e584e0e82f",
   "metadata": {},
   "outputs": [
    {
     "name": "stdout",
     "output_type": "stream",
     "text": [
      "\n",
      "📈 Fusion Summary\n",
      "     Client  best_alpha  accuracy\n",
      "0  client_1         0.5  0.998000\n",
      "1  client_2         0.5  1.000000\n",
      "2  client_3         0.5  1.000000\n",
      "3  client_4         0.5  0.998547\n",
      "✅ Saved summary CSV to: ../results/fusion/fusion_summary.csv\n"
     ]
    }
   ],
   "source": [
    "summary_df = pd.DataFrame.from_dict(fusion_summary, orient='index')\n",
    "summary_df.index.name = \"Client\"\n",
    "summary_df.reset_index(inplace=True)\n",
    "\n",
    "summary_file = os.path.join(fusion_results_dir, \"fusion_summary.csv\")\n",
    "summary_df.to_csv(summary_file, index=False)\n",
    "\n",
    "print(\"\\n📈 Fusion Summary\")\n",
    "print(summary_df)\n",
    "print(f\"✅ Saved summary CSV to: {summary_file}\")\n"
   ]
  },
  {
   "cell_type": "code",
   "execution_count": null,
   "id": "d94328f6-8926-4855-a55f-4813810a8846",
   "metadata": {},
   "outputs": [],
   "source": []
  }
 ],
 "metadata": {
  "kernelspec": {
   "display_name": "Python 3 (ipykernel)",
   "language": "python",
   "name": "python3"
  },
  "language_info": {
   "codemirror_mode": {
    "name": "ipython",
    "version": 3
   },
   "file_extension": ".py",
   "mimetype": "text/x-python",
   "name": "python",
   "nbconvert_exporter": "python",
   "pygments_lexer": "ipython3",
   "version": "3.10.16"
  }
 },
 "nbformat": 4,
 "nbformat_minor": 5
}
