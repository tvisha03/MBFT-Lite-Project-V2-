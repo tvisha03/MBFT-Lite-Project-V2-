{
 "cells": [
  {
   "cell_type": "code",
   "execution_count": 10,
   "id": "786d263e-9cdb-4a68-bca9-658ae3759779",
   "metadata": {},
   "outputs": [
    {
     "name": "stdout",
     "output_type": "stream",
     "text": [
      "\n",
      "📥 Processing client_1...\n"
     ]
    },
    {
     "ename": "KeyError",
     "evalue": "'true'",
     "output_type": "error",
     "traceback": [
      "\u001b[0;31m---------------------------------------------------------------------------\u001b[0m",
      "\u001b[0;31mKeyError\u001b[0m                                  Traceback (most recent call last)",
      "File \u001b[0;32m/opt/anaconda3/envs/mbft_lite_env/lib/python3.10/site-packages/pandas/core/indexes/base.py:3805\u001b[0m, in \u001b[0;36mIndex.get_loc\u001b[0;34m(self, key)\u001b[0m\n\u001b[1;32m   3804\u001b[0m \u001b[38;5;28;01mtry\u001b[39;00m:\n\u001b[0;32m-> 3805\u001b[0m     \u001b[38;5;28;01mreturn\u001b[39;00m \u001b[38;5;28;43mself\u001b[39;49m\u001b[38;5;241;43m.\u001b[39;49m\u001b[43m_engine\u001b[49m\u001b[38;5;241;43m.\u001b[39;49m\u001b[43mget_loc\u001b[49m\u001b[43m(\u001b[49m\u001b[43mcasted_key\u001b[49m\u001b[43m)\u001b[49m\n\u001b[1;32m   3806\u001b[0m \u001b[38;5;28;01mexcept\u001b[39;00m \u001b[38;5;167;01mKeyError\u001b[39;00m \u001b[38;5;28;01mas\u001b[39;00m err:\n",
      "File \u001b[0;32mindex.pyx:167\u001b[0m, in \u001b[0;36mpandas._libs.index.IndexEngine.get_loc\u001b[0;34m()\u001b[0m\n",
      "File \u001b[0;32mindex.pyx:196\u001b[0m, in \u001b[0;36mpandas._libs.index.IndexEngine.get_loc\u001b[0;34m()\u001b[0m\n",
      "File \u001b[0;32mpandas/_libs/hashtable_class_helper.pxi:7081\u001b[0m, in \u001b[0;36mpandas._libs.hashtable.PyObjectHashTable.get_item\u001b[0;34m()\u001b[0m\n",
      "File \u001b[0;32mpandas/_libs/hashtable_class_helper.pxi:7089\u001b[0m, in \u001b[0;36mpandas._libs.hashtable.PyObjectHashTable.get_item\u001b[0;34m()\u001b[0m\n",
      "\u001b[0;31mKeyError\u001b[0m: 'true'",
      "\nThe above exception was the direct cause of the following exception:\n",
      "\u001b[0;31mKeyError\u001b[0m                                  Traceback (most recent call last)",
      "Cell \u001b[0;32mIn[10], line 28\u001b[0m\n\u001b[1;32m     26\u001b[0m \u001b[38;5;66;03m# Load predictions for TinyBERT\u001b[39;00m\n\u001b[1;32m     27\u001b[0m tiny_preds \u001b[38;5;241m=\u001b[39m pd\u001b[38;5;241m.\u001b[39mread_csv(os\u001b[38;5;241m.\u001b[39mpath\u001b[38;5;241m.\u001b[39mjoin(TINY_PRED_PATH, client, \u001b[38;5;124m\"\u001b[39m\u001b[38;5;124mpredictions.csv\u001b[39m\u001b[38;5;124m\"\u001b[39m))\n\u001b[0;32m---> 28\u001b[0m tiny_phish_recall \u001b[38;5;241m=\u001b[39m recall_score(tiny_preds[\u001b[38;5;124m\"\u001b[39m\u001b[38;5;124mtrue\u001b[39m\u001b[38;5;124m\"\u001b[39m], tiny_preds[\u001b[38;5;124m\"\u001b[39m\u001b[38;5;124mpred\u001b[39m\u001b[38;5;124m\"\u001b[39m]) \u001b[38;5;28;01mif\u001b[39;00m \u001b[38;5;241m1\u001b[39m \u001b[38;5;129;01min\u001b[39;00m \u001b[43mtiny_preds\u001b[49m\u001b[43m[\u001b[49m\u001b[38;5;124;43m\"\u001b[39;49m\u001b[38;5;124;43mtrue\u001b[39;49m\u001b[38;5;124;43m\"\u001b[39;49m\u001b[43m]\u001b[49m\u001b[38;5;241m.\u001b[39munique() \u001b[38;5;28;01melse\u001b[39;00m \u001b[38;5;241m0\u001b[39m\n\u001b[1;32m     30\u001b[0m \u001b[38;5;66;03m# Load XGBoost predictions\u001b[39;00m\n\u001b[1;32m     31\u001b[0m xgb_preds \u001b[38;5;241m=\u001b[39m pd\u001b[38;5;241m.\u001b[39mread_csv(os\u001b[38;5;241m.\u001b[39mpath\u001b[38;5;241m.\u001b[39mjoin(XGB_PATH, \u001b[38;5;124mf\u001b[39m\u001b[38;5;124m\"\u001b[39m\u001b[38;5;132;01m{\u001b[39;00mclient\u001b[38;5;132;01m}\u001b[39;00m\u001b[38;5;124m_xgb_predictions.csv\u001b[39m\u001b[38;5;124m\"\u001b[39m))\n",
      "File \u001b[0;32m/opt/anaconda3/envs/mbft_lite_env/lib/python3.10/site-packages/pandas/core/frame.py:4102\u001b[0m, in \u001b[0;36mDataFrame.__getitem__\u001b[0;34m(self, key)\u001b[0m\n\u001b[1;32m   4100\u001b[0m \u001b[38;5;28;01mif\u001b[39;00m \u001b[38;5;28mself\u001b[39m\u001b[38;5;241m.\u001b[39mcolumns\u001b[38;5;241m.\u001b[39mnlevels \u001b[38;5;241m>\u001b[39m \u001b[38;5;241m1\u001b[39m:\n\u001b[1;32m   4101\u001b[0m     \u001b[38;5;28;01mreturn\u001b[39;00m \u001b[38;5;28mself\u001b[39m\u001b[38;5;241m.\u001b[39m_getitem_multilevel(key)\n\u001b[0;32m-> 4102\u001b[0m indexer \u001b[38;5;241m=\u001b[39m \u001b[38;5;28;43mself\u001b[39;49m\u001b[38;5;241;43m.\u001b[39;49m\u001b[43mcolumns\u001b[49m\u001b[38;5;241;43m.\u001b[39;49m\u001b[43mget_loc\u001b[49m\u001b[43m(\u001b[49m\u001b[43mkey\u001b[49m\u001b[43m)\u001b[49m\n\u001b[1;32m   4103\u001b[0m \u001b[38;5;28;01mif\u001b[39;00m is_integer(indexer):\n\u001b[1;32m   4104\u001b[0m     indexer \u001b[38;5;241m=\u001b[39m [indexer]\n",
      "File \u001b[0;32m/opt/anaconda3/envs/mbft_lite_env/lib/python3.10/site-packages/pandas/core/indexes/base.py:3812\u001b[0m, in \u001b[0;36mIndex.get_loc\u001b[0;34m(self, key)\u001b[0m\n\u001b[1;32m   3807\u001b[0m     \u001b[38;5;28;01mif\u001b[39;00m \u001b[38;5;28misinstance\u001b[39m(casted_key, \u001b[38;5;28mslice\u001b[39m) \u001b[38;5;129;01mor\u001b[39;00m (\n\u001b[1;32m   3808\u001b[0m         \u001b[38;5;28misinstance\u001b[39m(casted_key, abc\u001b[38;5;241m.\u001b[39mIterable)\n\u001b[1;32m   3809\u001b[0m         \u001b[38;5;129;01mand\u001b[39;00m \u001b[38;5;28many\u001b[39m(\u001b[38;5;28misinstance\u001b[39m(x, \u001b[38;5;28mslice\u001b[39m) \u001b[38;5;28;01mfor\u001b[39;00m x \u001b[38;5;129;01min\u001b[39;00m casted_key)\n\u001b[1;32m   3810\u001b[0m     ):\n\u001b[1;32m   3811\u001b[0m         \u001b[38;5;28;01mraise\u001b[39;00m InvalidIndexError(key)\n\u001b[0;32m-> 3812\u001b[0m     \u001b[38;5;28;01mraise\u001b[39;00m \u001b[38;5;167;01mKeyError\u001b[39;00m(key) \u001b[38;5;28;01mfrom\u001b[39;00m \u001b[38;5;21;01merr\u001b[39;00m\n\u001b[1;32m   3813\u001b[0m \u001b[38;5;28;01mexcept\u001b[39;00m \u001b[38;5;167;01mTypeError\u001b[39;00m:\n\u001b[1;32m   3814\u001b[0m     \u001b[38;5;66;03m# If we have a listlike key, _check_indexing_error will raise\u001b[39;00m\n\u001b[1;32m   3815\u001b[0m     \u001b[38;5;66;03m#  InvalidIndexError. Otherwise we fall through and re-raise\u001b[39;00m\n\u001b[1;32m   3816\u001b[0m     \u001b[38;5;66;03m#  the TypeError.\u001b[39;00m\n\u001b[1;32m   3817\u001b[0m     \u001b[38;5;28mself\u001b[39m\u001b[38;5;241m.\u001b[39m_check_indexing_error(key)\n",
      "\u001b[0;31mKeyError\u001b[0m: 'true'"
     ]
    }
   ],
   "source": [
    "\n",
    "import pandas as pd\n",
    "import numpy as np\n",
    "import os\n",
    "import json\n",
    "from sklearn.metrics import recall_score\n",
    "\n",
    "# Paths\n",
    "TINY_METRICS_PATH = \"../fl_tinybert/results\"\n",
    "TINY_PRED_PATH = \"../fl_tinybert/fl_tinybert/results\"\n",
    "XGB_PATH = \"../results/xgboost\"\n",
    "FUSION_PATH = \"../results/fusion/fusion_summary.csv\"\n",
    "\n",
    "clients = [\"client_1\", \"client_2\", \"client_3\", \"client_4\"]\n",
    "\n",
    "records = []\n",
    "\n",
    "for client in clients:\n",
    "    print(f\"\\n📥 Processing {client}...\")\n",
    "\n",
    "    # Load TinyBERT accuracy from metrics.json\n",
    "    tiny_metrics_path = os.path.join(TINY_METRICS_PATH, client, \"metrics.json\")\n",
    "    with open(tiny_metrics_path, \"r\") as f:\n",
    "        tiny_metrics = json.load(f)\n",
    "        tiny_acc = tiny_metrics.get(\"eval_accuracy\", 0)\n",
    "\n",
    "    # Load predictions for TinyBERT\n",
    "    tiny_preds = pd.read_csv(os.path.join(TINY_PRED_PATH, client, \"predictions.csv\"))\n",
    "    tiny_phish_recall = recall_score(tiny_preds[\"true\"], tiny_preds[\"pred\"]) if 1 in tiny_preds[\"true\"].unique() else 0\n",
    "\n",
    "    # Load XGBoost predictions\n",
    "    xgb_preds = pd.read_csv(os.path.join(XGB_PATH, f\"{client}_xgb_predictions.csv\"))\n",
    "    xgb_acc = (xgb_preds[\"Actual\"] == xgb_preds[\"Predicted\"]).mean()\n",
    "    xgb_phish_recall = recall_score(xgb_preds[\"Actual\"], xgb_preds[\"Predicted\"]) if 1 in xgb_preds[\"Actual\"].unique() else 0\n",
    "\n",
    "    # Load Fusion accuracy\n",
    "    fusion_df = pd.read_csv(FUSION_PATH)\n",
    "    fusion_acc = fusion_df[fusion_df[\"Client\"] == client][\"accuracy\"].values[0]\n",
    "\n",
    "    # Estimate Fusion Recall\n",
    "    fusion_probs = 0.5 * tiny_preds[\"Probability\"].values + 0.5 * xgb_preds[\"Probability\"].values\n",
    "    fusion_pred = (fusion_probs >= 0.5).astype(int)\n",
    "    fusion_recall = recall_score(tiny_preds[\"true\"], fusion_pred) if 1 in tiny_preds[\"true\"].unique() else 0\n",
    "\n",
    "    # Fix count (both wrong, fusion right)\n",
    "    both_wrong = (tiny_preds[\"pred\"] != tiny_preds[\"true\"]) & (xgb_preds[\"Predicted\"] != xgb_preds[\"Actual\"])\n",
    "    fusion_correct = fusion_pred == tiny_preds[\"true\"]\n",
    "    fixed = np.sum(both_wrong & fusion_correct)\n",
    "\n",
    "    # Confidence diff\n",
    "    conf_diff = np.mean(tiny_preds[\"Probability\"] - xgb_preds[\"Probability\"])\n",
    "\n",
    "    records.append({\n",
    "        \"Client\": client,\n",
    "        \"TinyBERT Acc\": round(tiny_acc, 4),\n",
    "        \"XGB Acc\": round(xgb_acc, 4),\n",
    "        \"Fusion Acc\": round(fusion_acc, 4),\n",
    "        \"Phish Recall Tiny\": round(tiny_phish_recall, 4),\n",
    "        \"Phish Recall XGB\": round(xgb_phish_recall, 4),\n",
    "        \"Phish Recall Fusion\": round(fusion_recall, 4),\n",
    "        \"Fusion Fixed X Samples\": fixed,\n",
    "        \"Confidence Gap\": round(conf_diff, 4)\n",
    "    })\n",
    "\n",
    "# Create final summary table\n",
    "summary_df = pd.DataFrame(records)\n",
    "summary_df.set_index(\"Client\", inplace=True)\n",
    "\n",
    "# Display or save\n",
    "import ace_tools as tools\n",
    "tools.display_dataframe_to_user(name=\"Final Evaluation Table with Phish Recall\", dataframe=summary_df)\n"
   ]
  },
  {
   "cell_type": "code",
   "execution_count": null,
   "id": "0898eb1e-8523-4002-add0-788f3b45bf11",
   "metadata": {},
   "outputs": [],
   "source": []
  },
  {
   "cell_type": "code",
   "execution_count": null,
   "id": "8b801ec5-ea1f-40a4-8a48-a4422ef4db4e",
   "metadata": {},
   "outputs": [],
   "source": []
  }
 ],
 "metadata": {
  "kernelspec": {
   "display_name": "Python 3 (ipykernel)",
   "language": "python",
   "name": "python3"
  },
  "language_info": {
   "codemirror_mode": {
    "name": "ipython",
    "version": 3
   },
   "file_extension": ".py",
   "mimetype": "text/x-python",
   "name": "python",
   "nbconvert_exporter": "python",
   "pygments_lexer": "ipython3",
   "version": "3.10.16"
  }
 },
 "nbformat": 4,
 "nbformat_minor": 5
}
