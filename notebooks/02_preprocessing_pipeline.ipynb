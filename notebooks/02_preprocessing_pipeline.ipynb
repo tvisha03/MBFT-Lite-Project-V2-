{
 "cells": [
  {
   "cell_type": "code",
   "execution_count": 1,
   "id": "dbd24851-2f4d-4711-97b2-d29c81940201",
   "metadata": {},
   "outputs": [],
   "source": [
    "import pandas as pd\n",
    "import numpy as np\n",
    "import os\n",
    "import re\n",
    "from urllib.parse import urlparse\n",
    "from sklearn.preprocessing import LabelEncoder\n",
    "\n",
    "# Paths\n",
    "CLIENT_PATH = \"../data/clients\"\n",
    "TEXT_OUT = \"../data/processed/text\"\n",
    "META_OUT = \"../data/processed/metadata\"\n",
    "\n",
    "# Create folders if missing\n",
    "os.makedirs(TEXT_OUT, exist_ok=True)\n",
    "os.makedirs(META_OUT, exist_ok=True)\n",
    "\n",
    "client_files = {\n",
    "    \"client_1\": \"client_1.csv\",\n",
    "    \"client_2\": \"client_2.csv\",\n",
    "    \"client_3\": \"client_3.csv\",\n",
    "    \"client_4\": \"client_4.csv\"\n",
    "}\n"
   ]
  },
  {
   "cell_type": "code",
   "execution_count": 2,
   "id": "ed005bd0-681b-42ab-85e5-970721a81d6a",
   "metadata": {},
   "outputs": [],
   "source": [
    "def prepare_text_df(df):\n",
    "    text = (df[\"subject\"].fillna(\"\") + \" \" + df[\"body\"].fillna(\"\")).str.strip()\n",
    "    text = text.str.replace(r'\\s+', ' ', regex=True).str.lower()\n",
    "    return pd.DataFrame({\n",
    "        \"text\": text,\n",
    "        \"label\": df[\"label\"]\n",
    "    })\n"
   ]
  },
  {
   "cell_type": "code",
   "execution_count": 5,
   "id": "e6101b35-d775-4014-b16b-84f9e7094684",
   "metadata": {},
   "outputs": [],
   "source": [
    "def extract_domain(email):\n",
    "    try:\n",
    "        return email.split(\"@\")[-1].lower()\n",
    "    except:\n",
    "        return \"unknown\"\n",
    "\n",
    "def prepare_metadata_df(df):\n",
    "    df = df.copy()\n",
    "    df[\"sender_domain\"] = df[\"sender\"].apply(extract_domain)\n",
    "    df[\"receiver_domain\"] = df[\"receiver\"].apply(extract_domain)\n",
    "\n",
    "    # Convert to datetime safely\n",
    "    df[\"date\"] = pd.to_datetime(df[\"date\"], errors='coerce', utc=True)\n",
    "\n",
    "    # Fill NaTs with defaults before extracting time-based features\n",
    "    df[\"hour\"] = df[\"date\"].dt.hour.fillna(-1).astype(int)\n",
    "    df[\"weekday\"] = df[\"date\"].dt.weekday.fillna(-1).astype(int)\n",
    "\n",
    "    # Keep only useful columns\n",
    "    meta = df[[\"sender_domain\", \"receiver_domain\", \"hour\", \"weekday\", \"urls\", \"label\"]].fillna(\"unknown\")\n",
    "\n",
    "    # Label encode categorical\n",
    "    for col in [\"sender_domain\", \"receiver_domain\"]:\n",
    "        le = LabelEncoder()\n",
    "        meta[col] = le.fit_transform(meta[col])\n",
    "\n",
    "    return meta\n",
    "\n"
   ]
  },
  {
   "cell_type": "code",
   "execution_count": 6,
   "id": "24743c8c-83da-45cf-bba6-e3650ee83aae",
   "metadata": {},
   "outputs": [
    {
     "name": "stdout",
     "output_type": "stream",
     "text": [
      "✅ Processed client_1: text + metadata\n",
      "✅ Processed client_2: text + metadata\n",
      "✅ Processed client_3: text + metadata\n",
      "✅ Processed client_4: text + metadata\n"
     ]
    },
    {
     "name": "stderr",
     "output_type": "stream",
     "text": [
      "/var/folders/d4/4d6dk50x4cjgbl61mz0_173c0000gn/T/ipykernel_30382/4098857118.py:13: FutureWarning: Parsed string \"Wed, 18 Sep 2002 11:43:02 PST\" included an un-recognized timezone \"PST\". Dropping unrecognized timezones is deprecated; in a future version this will raise. Instead pass the string without the timezone, then use .tz_localize to convert to a recognized timezone.\n",
      "  df[\"date\"] = pd.to_datetime(df[\"date\"], errors='coerce', utc=True)\n"
     ]
    }
   ],
   "source": [
    "for client_id, filename in client_files.items():\n",
    "    path = os.path.join(CLIENT_PATH, filename)\n",
    "    df = pd.read_csv(path)\n",
    "\n",
    "    # Text Processing\n",
    "    text_df = prepare_text_df(df)\n",
    "    text_df.to_csv(os.path.join(TEXT_OUT, f\"{client_id}_text.csv\"), index=False)\n",
    "\n",
    "    # Metadata Processing\n",
    "    meta_df = prepare_metadata_df(df)\n",
    "    meta_df.to_csv(os.path.join(META_OUT, f\"{client_id}_meta.csv\"), index=False)\n",
    "\n",
    "    print(f\"✅ Processed {client_id}: text + metadata\")\n"
   ]
  },
  {
   "cell_type": "code",
   "execution_count": null,
   "id": "ac6da275-9dad-458d-9e1f-4d6b6cf7cffd",
   "metadata": {},
   "outputs": [],
   "source": []
  }
 ],
 "metadata": {
  "kernelspec": {
   "display_name": "Python 3 (ipykernel)",
   "language": "python",
   "name": "python3"
  },
  "language_info": {
   "codemirror_mode": {
    "name": "ipython",
    "version": 3
   },
   "file_extension": ".py",
   "mimetype": "text/x-python",
   "name": "python",
   "nbconvert_exporter": "python",
   "pygments_lexer": "ipython3",
   "version": "3.10.16"
  }
 },
 "nbformat": 4,
 "nbformat_minor": 5
}
