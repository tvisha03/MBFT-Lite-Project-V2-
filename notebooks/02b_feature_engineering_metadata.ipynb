{
 "cells": [
  {
   "cell_type": "code",
   "execution_count": 5,
   "id": "f72b7616-ab2d-4bc8-8850-03465198fd75",
   "metadata": {},
   "outputs": [],
   "source": [
    "import pandas as pd\n",
    "import os\n",
    "\n",
    "# Input and output directories\n",
    "raw_meta_dir = \"../data/processed/metadata_v2\"\n",
    "clean_meta_dir = \"../data/processed/metadata_cleaned\"\n",
    "\n",
    "# Ensure output directory exists\n",
    "os.makedirs(clean_meta_dir, exist_ok=True)\n",
    "\n",
    "# Client metadata files\n",
    "clients = {\n",
    "    \"client_1\": \"client_1_meta_v2.csv\",\n",
    "    \"client_2\": \"client_2_meta_v2.csv\",\n",
    "    \"client_3\": \"client_3_meta_v2.csv\",\n",
    "    \"client_4\": \"client_4_meta_v2.csv\"\n",
    "}\n"
   ]
  },
  {
   "cell_type": "code",
   "execution_count": 2,
   "id": "5b942b73-077c-4f04-be8e-0484b09ac67f",
   "metadata": {},
   "outputs": [],
   "source": [
    "def engineer_metadata_features(df, client_id):\n",
    "    # Derived Features\n",
    "    if all(col in df.columns for col in [\"url_avg_length\", \"url_max_length\"]):\n",
    "        df[\"url_length_ratio\"] = df[\"url_avg_length\"] / (df[\"url_max_length\"] + 1e-5)\n",
    "    \n",
    "    if all(col in df.columns for col in [\"url_count_in_body\", \"body_length\"]):\n",
    "        df[\"url_density\"] = df[\"url_count_in_body\"] / (df[\"body_length\"] + 1e-5)\n",
    "    \n",
    "    # Drop known redundant or highly correlated features\n",
    "    drop_cols = [\n",
    "        \"url_avg_length\", \"url_max_length\", \"url_count_in_body\",\n",
    "        \"has_valid_date\", \"is_midnight_hour\", \"email_weekday\"\n",
    "    ]\n",
    "\n",
    "    # Handle client-specific constant features\n",
    "    if client_id == \"client_4\" or df[\"is_weekend\"].nunique() == 1:\n",
    "        drop_cols.append(\"is_weekend\")\n",
    "\n",
    "    df.drop(columns=[col for col in drop_cols if col in df.columns], inplace=True)\n",
    "    \n",
    "    return df\n"
   ]
  },
  {
   "cell_type": "code",
   "execution_count": 3,
   "id": "0c2c1b8e-be80-4053-b78d-8a51fafdc3ed",
   "metadata": {},
   "outputs": [
    {
     "name": "stdout",
     "output_type": "stream",
     "text": [
      "🔧 Processing metadata for client_1...\n",
      "✅ Saved cleaned metadata: ../data/processed/metadata_cleaned/client_1_meta_cleaned.csv\n",
      "\n",
      "🔧 Processing metadata for client_2...\n",
      "✅ Saved cleaned metadata: ../data/processed/metadata_cleaned/client_2_meta_cleaned.csv\n",
      "\n",
      "🔧 Processing metadata for client_3...\n",
      "✅ Saved cleaned metadata: ../data/processed/metadata_cleaned/client_3_meta_cleaned.csv\n",
      "\n",
      "🔧 Processing metadata for client_4...\n",
      "✅ Saved cleaned metadata: ../data/processed/metadata_cleaned/client_4_meta_cleaned.csv\n",
      "\n"
     ]
    }
   ],
   "source": [
    "for client_id, filename in clients.items():\n",
    "    print(f\"🔧 Processing metadata for {client_id}...\")\n",
    "\n",
    "    # Load original metadata\n",
    "    df = pd.read_csv(os.path.join(raw_meta_dir, filename))\n",
    "\n",
    "    # Feature engineering\n",
    "    df_clean = engineer_metadata_features(df, client_id)\n",
    "\n",
    "    # Save cleaned metadata\n",
    "    new_filename = filename.replace(\"_meta_v2\", \"_meta_cleaned\")\n",
    "    save_path = os.path.join(clean_meta_dir, new_filename)\n",
    "    df_clean.to_csv(save_path, index=False)\n",
    "\n",
    "    print(f\"✅ Saved cleaned metadata: {save_path}\\n\")\n"
   ]
  },
  {
   "cell_type": "code",
   "execution_count": 4,
   "id": "36072d3e-08dc-497e-8a23-d262f9aeccce",
   "metadata": {},
   "outputs": [
    {
     "name": "stdout",
     "output_type": "stream",
     "text": [
      "📊 Cleaned Feature Columns Per Client:\n",
      "client_1: ['sender_domain_length', 'sender_has_digits', 'sender_has_special_chars', 'sender_tld', 'sender_is_public_domain', 'receiver_is_undisclosed', 'receiver_is_public_domain', 'sender_equals_receiver', 'email_hour', 'is_weekend', 'url_present', 'url_has_ip', 'url_has_special_chars', 'url_has_redirect', 'url_suspicious_tld', 'subject_length', 'body_length', 'text_combined_length', 'uppercase_ratio', 'exclamation_count', 'label', 'url_length_ratio', 'url_density']\n",
      "client_2: ['sender_domain_length', 'sender_has_digits', 'sender_has_special_chars', 'sender_tld', 'sender_is_public_domain', 'receiver_is_undisclosed', 'receiver_is_public_domain', 'sender_equals_receiver', 'email_hour', 'is_weekend', 'url_present', 'url_has_ip', 'url_has_special_chars', 'url_has_redirect', 'url_suspicious_tld', 'subject_length', 'body_length', 'text_combined_length', 'uppercase_ratio', 'exclamation_count', 'label', 'url_length_ratio', 'url_density']\n",
      "client_3: ['sender_domain_length', 'sender_has_digits', 'sender_has_special_chars', 'sender_tld', 'sender_is_public_domain', 'receiver_is_undisclosed', 'receiver_is_public_domain', 'sender_equals_receiver', 'email_hour', 'is_weekend', 'url_present', 'url_has_ip', 'url_has_special_chars', 'url_has_redirect', 'url_suspicious_tld', 'subject_length', 'body_length', 'text_combined_length', 'uppercase_ratio', 'exclamation_count', 'label', 'url_length_ratio', 'url_density']\n",
      "client_4: ['sender_domain_length', 'sender_has_digits', 'sender_has_special_chars', 'sender_tld', 'sender_is_public_domain', 'receiver_is_undisclosed', 'receiver_is_public_domain', 'sender_equals_receiver', 'email_hour', 'url_present', 'url_has_ip', 'url_has_special_chars', 'url_has_redirect', 'url_suspicious_tld', 'subject_length', 'body_length', 'text_combined_length', 'uppercase_ratio', 'exclamation_count', 'label', 'url_length_ratio', 'url_density']\n"
     ]
    }
   ],
   "source": [
    "print(\"📊 Cleaned Feature Columns Per Client:\")\n",
    "for client_id, filename in clients.items():\n",
    "    new_filename = filename.replace(\"_meta_v2\", \"_meta_cleaned\")\n",
    "    df_clean = pd.read_csv(os.path.join(clean_meta_dir, new_filename))\n",
    "    print(f\"{client_id}: {list(df_clean.columns)}\")\n"
   ]
  },
  {
   "cell_type": "code",
   "execution_count": null,
   "id": "dc2b7c4a-45b2-4baa-8d25-c10938e8ba63",
   "metadata": {},
   "outputs": [],
   "source": []
  }
 ],
 "metadata": {
  "kernelspec": {
   "display_name": "Python 3 (ipykernel)",
   "language": "python",
   "name": "python3"
  },
  "language_info": {
   "codemirror_mode": {
    "name": "ipython",
    "version": 3
   },
   "file_extension": ".py",
   "mimetype": "text/x-python",
   "name": "python",
   "nbconvert_exporter": "python",
   "pygments_lexer": "ipython3",
   "version": "3.10.16"
  }
 },
 "nbformat": 4,
 "nbformat_minor": 5
}
