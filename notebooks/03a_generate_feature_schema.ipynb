{
 "cells": [
  {
   "cell_type": "code",
   "execution_count": 1,
   "id": "50e75534-c023-4c8f-a178-11dce0cff663",
   "metadata": {},
   "outputs": [
    {
     "name": "stdout",
     "output_type": "stream",
     "text": [
      "✅ Saved unified feature schema: 26 features\n"
     ]
    }
   ],
   "source": [
    "import pandas as pd\n",
    "import json\n",
    "\n",
    "# Load client 1 metadata\n",
    "df = pd.read_csv(\"../data/processed/metadata_v2/client_1_meta_v2.csv\")\n",
    "\n",
    "# Drop label and save ordered feature list\n",
    "schema = list(df.drop(columns=[\"label\"]).columns)\n",
    "\n",
    "# Save schema to JSON\n",
    "with open(\"../data/processed/metadata_v2/feature_schema.json\", \"w\") as f:\n",
    "    json.dump(schema, f)\n",
    "\n",
    "print(\"✅ Saved unified feature schema:\", len(schema), \"features\")\n"
   ]
  },
  {
   "cell_type": "code",
   "execution_count": null,
   "id": "cae9a2a6-42bd-4843-bc88-8879a1c366b7",
   "metadata": {},
   "outputs": [],
   "source": []
  }
 ],
 "metadata": {
  "kernelspec": {
   "display_name": "Python 3 (ipykernel)",
   "language": "python",
   "name": "python3"
  },
  "language_info": {
   "codemirror_mode": {
    "name": "ipython",
    "version": 3
   },
   "file_extension": ".py",
   "mimetype": "text/x-python",
   "name": "python",
   "nbconvert_exporter": "python",
   "pygments_lexer": "ipython3",
   "version": "3.10.16"
  }
 },
 "nbformat": 4,
 "nbformat_minor": 5
}
