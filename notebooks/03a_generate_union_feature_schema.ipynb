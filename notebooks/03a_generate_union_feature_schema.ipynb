{
 "cells": [
  {
   "cell_type": "code",
   "execution_count": 1,
   "id": "e5cd6434-da64-4aba-a50e-4ac2a81fe5c8",
   "metadata": {},
   "outputs": [
    {
     "name": "stdout",
     "output_type": "stream",
     "text": [
      "✅ Built union feature schema with 26 columns.\n",
      "['body_length', 'email_hour', 'email_weekday', 'exclamation_count', 'has_valid_date', 'is_midnight_hour', 'is_weekend', 'receiver_is_public_domain', 'receiver_is_undisclosed', 'sender_domain_length', 'sender_equals_receiver', 'sender_has_digits', 'sender_has_special_chars', 'sender_is_public_domain', 'sender_tld', 'subject_length', 'text_combined_length', 'uppercase_ratio', 'url_avg_length', 'url_count_in_body', 'url_has_ip', 'url_has_redirect', 'url_has_special_chars', 'url_max_length', 'url_present', 'url_suspicious_tld']\n"
     ]
    }
   ],
   "source": [
    "import pandas as pd\n",
    "import json\n",
    "\n",
    "# We'll load all 4 client metadata files\n",
    "client_paths = [\n",
    "    \"../data/processed/metadata_v2/client_1_meta_v2.csv\",\n",
    "    \"../data/processed/metadata_v2/client_2_meta_v2.csv\",\n",
    "    \"../data/processed/metadata_v2/client_3_meta_v2.csv\",\n",
    "    \"../data/processed/metadata_v2/client_4_meta_v2.csv\",\n",
    "]\n",
    "\n",
    "union_cols = set()\n",
    "\n",
    "for path in client_paths:\n",
    "    df = pd.read_csv(path)\n",
    "    # Exclude label\n",
    "    cols = set(df.drop(columns=[\"label\"]).columns)\n",
    "    union_cols = union_cols.union(cols)\n",
    "\n",
    "# Convert to a sorted list for consistency\n",
    "schema_list = sorted(list(union_cols))\n",
    "\n",
    "with open(\"../data/processed/metadata_v2/feature_schema.json\", \"w\") as f:\n",
    "    json.dump(schema_list, f, indent=2)\n",
    "\n",
    "print(\"✅ Built union feature schema with\", len(schema_list), \"columns.\")\n",
    "print(schema_list)\n"
   ]
  },
  {
   "cell_type": "code",
   "execution_count": null,
   "id": "aefcc8d8-ae28-4591-98b9-1da3d84fc25a",
   "metadata": {},
   "outputs": [],
   "source": []
  }
 ],
 "metadata": {
  "kernelspec": {
   "display_name": "Python 3 (ipykernel)",
   "language": "python",
   "name": "python3"
  },
  "language_info": {
   "codemirror_mode": {
    "name": "ipython",
    "version": 3
   },
   "file_extension": ".py",
   "mimetype": "text/x-python",
   "name": "python",
   "nbconvert_exporter": "python",
   "pygments_lexer": "ipython3",
   "version": "3.10.16"
  }
 },
 "nbformat": 4,
 "nbformat_minor": 5
}
